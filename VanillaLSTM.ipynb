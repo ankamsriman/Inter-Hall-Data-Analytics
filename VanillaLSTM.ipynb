{
  "nbformat": 4,
  "nbformat_minor": 0,
  "metadata": {
    "colab": {
      "name": "VanillaLSTM.ipynb",
      "provenance": [],
      "collapsed_sections": []
    },
    "kernelspec": {
      "name": "python3",
      "display_name": "Python 3"
    },
    "language_info": {
      "name": "python"
    }
  },
  "cells": [
    {
      "cell_type": "code",
      "execution_count": null,
      "metadata": {
        "id": "wY8Iv55GFKxW"
      },
      "outputs": [],
      "source": [
        "import numpy as np\n",
        "import pandas as pd\n",
        "import matplotlib.pyplot as plt\n",
        "%matplotlib inline"
      ]
    },
    {
      "cell_type": "code",
      "source": [
        "from google.colab import drive\n",
        "drive.mount('/content/drive')"
      ],
      "metadata": {
        "id": "05hw00KpFc0U",
        "colab": {
          "base_uri": "https://localhost:8080/"
        },
        "outputId": "768835fd-a3c2-4c9f-84ac-1619e273e4a4"
      },
      "execution_count": null,
      "outputs": [
        {
          "output_type": "stream",
          "name": "stdout",
          "text": [
            "Drive already mounted at /content/drive; to attempt to forcibly remount, call drive.mount(\"/content/drive\", force_remount=True).\n"
          ]
        }
      ]
    },
    {
      "cell_type": "code",
      "source": [
        "df = pd.read_excel('drive/MyDrive/Inter Hall Data Analytics/Train_data.xlsx',parse_dates=True)"
      ],
      "metadata": {
        "id": "w80agMzRFez_"
      },
      "execution_count": null,
      "outputs": []
    },
    {
      "cell_type": "code",
      "source": [
        "df.head()"
      ],
      "metadata": {
        "id": "xbSvwj0iFg8l",
        "colab": {
          "base_uri": "https://localhost:8080/",
          "height": 317
        },
        "outputId": "2e8e825d-8592-4142-8ea9-2f08392ff0ed"
      },
      "execution_count": null,
      "outputs": [
        {
          "output_type": "execute_result",
          "data": {
            "text/html": [
              "\n",
              "  <div id=\"df-e301c180-195c-4ca4-ba82-2c3db8eb00ef\">\n",
              "    <div class=\"colab-df-container\">\n",
              "      <div>\n",
              "<style scoped>\n",
              "    .dataframe tbody tr th:only-of-type {\n",
              "        vertical-align: middle;\n",
              "    }\n",
              "\n",
              "    .dataframe tbody tr th {\n",
              "        vertical-align: top;\n",
              "    }\n",
              "\n",
              "    .dataframe thead th {\n",
              "        text-align: right;\n",
              "    }\n",
              "</style>\n",
              "<table border=\"1\" class=\"dataframe\">\n",
              "  <thead>\n",
              "    <tr style=\"text-align: right;\">\n",
              "      <th></th>\n",
              "      <th>Warehouse id</th>\n",
              "      <th>Region</th>\n",
              "      <th>SKU id</th>\n",
              "      <th>2018-04-01 00:00:00</th>\n",
              "      <th>2018-05-01 00:00:00</th>\n",
              "      <th>2018-06-01 00:00:00</th>\n",
              "      <th>2018-07-01 00:00:00</th>\n",
              "      <th>2018-08-01 00:00:00</th>\n",
              "      <th>2018-09-01 00:00:00</th>\n",
              "      <th>2018-10-01 00:00:00</th>\n",
              "      <th>...</th>\n",
              "      <th>2020-08-01 00:00:00</th>\n",
              "      <th>2020-09-01 00:00:00</th>\n",
              "      <th>2020-10-01 00:00:00</th>\n",
              "      <th>2020-11-01 00:00:00</th>\n",
              "      <th>2020-12-01 00:00:00</th>\n",
              "      <th>2021-01-01 00:00:00</th>\n",
              "      <th>2021-02-01 00:00:00</th>\n",
              "      <th>2021-03-01 00:00:00</th>\n",
              "      <th>2021-04-01 00:00:00</th>\n",
              "      <th>2021-05-01 00:00:00</th>\n",
              "    </tr>\n",
              "  </thead>\n",
              "  <tbody>\n",
              "    <tr>\n",
              "      <th>0</th>\n",
              "      <td>Wh-1</td>\n",
              "      <td>NORTH</td>\n",
              "      <td>SKU-1</td>\n",
              "      <td>27</td>\n",
              "      <td>13</td>\n",
              "      <td>30</td>\n",
              "      <td>14</td>\n",
              "      <td>22</td>\n",
              "      <td>8</td>\n",
              "      <td>8</td>\n",
              "      <td>...</td>\n",
              "      <td>12</td>\n",
              "      <td>8</td>\n",
              "      <td>8</td>\n",
              "      <td>8</td>\n",
              "      <td>8</td>\n",
              "      <td>8</td>\n",
              "      <td>14</td>\n",
              "      <td>16</td>\n",
              "      <td>8</td>\n",
              "      <td>12</td>\n",
              "    </tr>\n",
              "    <tr>\n",
              "      <th>1</th>\n",
              "      <td>Wh-1</td>\n",
              "      <td>NORTH</td>\n",
              "      <td>SKU-2</td>\n",
              "      <td>88</td>\n",
              "      <td>28</td>\n",
              "      <td>127</td>\n",
              "      <td>130</td>\n",
              "      <td>58</td>\n",
              "      <td>10</td>\n",
              "      <td>7</td>\n",
              "      <td>...</td>\n",
              "      <td>16</td>\n",
              "      <td>7</td>\n",
              "      <td>7</td>\n",
              "      <td>7</td>\n",
              "      <td>7</td>\n",
              "      <td>7</td>\n",
              "      <td>13</td>\n",
              "      <td>43</td>\n",
              "      <td>13</td>\n",
              "      <td>43</td>\n",
              "    </tr>\n",
              "    <tr>\n",
              "      <th>2</th>\n",
              "      <td>Wh-1</td>\n",
              "      <td>NORTH</td>\n",
              "      <td>SKU-3</td>\n",
              "      <td>6</td>\n",
              "      <td>6</td>\n",
              "      <td>6</td>\n",
              "      <td>6</td>\n",
              "      <td>6</td>\n",
              "      <td>6</td>\n",
              "      <td>6</td>\n",
              "      <td>...</td>\n",
              "      <td>8</td>\n",
              "      <td>6</td>\n",
              "      <td>6</td>\n",
              "      <td>6</td>\n",
              "      <td>6</td>\n",
              "      <td>6</td>\n",
              "      <td>6</td>\n",
              "      <td>8</td>\n",
              "      <td>26</td>\n",
              "      <td>6</td>\n",
              "    </tr>\n",
              "    <tr>\n",
              "      <th>3</th>\n",
              "      <td>Wh-1</td>\n",
              "      <td>NORTH</td>\n",
              "      <td>SKU-4</td>\n",
              "      <td>162</td>\n",
              "      <td>184</td>\n",
              "      <td>110</td>\n",
              "      <td>172</td>\n",
              "      <td>90</td>\n",
              "      <td>40</td>\n",
              "      <td>18</td>\n",
              "      <td>...</td>\n",
              "      <td>82</td>\n",
              "      <td>78</td>\n",
              "      <td>38</td>\n",
              "      <td>18</td>\n",
              "      <td>22</td>\n",
              "      <td>28</td>\n",
              "      <td>36</td>\n",
              "      <td>352</td>\n",
              "      <td>58</td>\n",
              "      <td>18</td>\n",
              "    </tr>\n",
              "    <tr>\n",
              "      <th>4</th>\n",
              "      <td>Wh-1</td>\n",
              "      <td>NORTH</td>\n",
              "      <td>SKU-5</td>\n",
              "      <td>171</td>\n",
              "      <td>402</td>\n",
              "      <td>627</td>\n",
              "      <td>615</td>\n",
              "      <td>300</td>\n",
              "      <td>417</td>\n",
              "      <td>141</td>\n",
              "      <td>...</td>\n",
              "      <td>468</td>\n",
              "      <td>216</td>\n",
              "      <td>75</td>\n",
              "      <td>6</td>\n",
              "      <td>30</td>\n",
              "      <td>66</td>\n",
              "      <td>141</td>\n",
              "      <td>699</td>\n",
              "      <td>183</td>\n",
              "      <td>24</td>\n",
              "    </tr>\n",
              "  </tbody>\n",
              "</table>\n",
              "<p>5 rows × 41 columns</p>\n",
              "</div>\n",
              "      <button class=\"colab-df-convert\" onclick=\"convertToInteractive('df-e301c180-195c-4ca4-ba82-2c3db8eb00ef')\"\n",
              "              title=\"Convert this dataframe to an interactive table.\"\n",
              "              style=\"display:none;\">\n",
              "        \n",
              "  <svg xmlns=\"http://www.w3.org/2000/svg\" height=\"24px\"viewBox=\"0 0 24 24\"\n",
              "       width=\"24px\">\n",
              "    <path d=\"M0 0h24v24H0V0z\" fill=\"none\"/>\n",
              "    <path d=\"M18.56 5.44l.94 2.06.94-2.06 2.06-.94-2.06-.94-.94-2.06-.94 2.06-2.06.94zm-11 1L8.5 8.5l.94-2.06 2.06-.94-2.06-.94L8.5 2.5l-.94 2.06-2.06.94zm10 10l.94 2.06.94-2.06 2.06-.94-2.06-.94-.94-2.06-.94 2.06-2.06.94z\"/><path d=\"M17.41 7.96l-1.37-1.37c-.4-.4-.92-.59-1.43-.59-.52 0-1.04.2-1.43.59L10.3 9.45l-7.72 7.72c-.78.78-.78 2.05 0 2.83L4 21.41c.39.39.9.59 1.41.59.51 0 1.02-.2 1.41-.59l7.78-7.78 2.81-2.81c.8-.78.8-2.07 0-2.86zM5.41 20L4 18.59l7.72-7.72 1.47 1.35L5.41 20z\"/>\n",
              "  </svg>\n",
              "      </button>\n",
              "      \n",
              "  <style>\n",
              "    .colab-df-container {\n",
              "      display:flex;\n",
              "      flex-wrap:wrap;\n",
              "      gap: 12px;\n",
              "    }\n",
              "\n",
              "    .colab-df-convert {\n",
              "      background-color: #E8F0FE;\n",
              "      border: none;\n",
              "      border-radius: 50%;\n",
              "      cursor: pointer;\n",
              "      display: none;\n",
              "      fill: #1967D2;\n",
              "      height: 32px;\n",
              "      padding: 0 0 0 0;\n",
              "      width: 32px;\n",
              "    }\n",
              "\n",
              "    .colab-df-convert:hover {\n",
              "      background-color: #E2EBFA;\n",
              "      box-shadow: 0px 1px 2px rgba(60, 64, 67, 0.3), 0px 1px 3px 1px rgba(60, 64, 67, 0.15);\n",
              "      fill: #174EA6;\n",
              "    }\n",
              "\n",
              "    [theme=dark] .colab-df-convert {\n",
              "      background-color: #3B4455;\n",
              "      fill: #D2E3FC;\n",
              "    }\n",
              "\n",
              "    [theme=dark] .colab-df-convert:hover {\n",
              "      background-color: #434B5C;\n",
              "      box-shadow: 0px 1px 3px 1px rgba(0, 0, 0, 0.15);\n",
              "      filter: drop-shadow(0px 1px 2px rgba(0, 0, 0, 0.3));\n",
              "      fill: #FFFFFF;\n",
              "    }\n",
              "  </style>\n",
              "\n",
              "      <script>\n",
              "        const buttonEl =\n",
              "          document.querySelector('#df-e301c180-195c-4ca4-ba82-2c3db8eb00ef button.colab-df-convert');\n",
              "        buttonEl.style.display =\n",
              "          google.colab.kernel.accessAllowed ? 'block' : 'none';\n",
              "\n",
              "        async function convertToInteractive(key) {\n",
              "          const element = document.querySelector('#df-e301c180-195c-4ca4-ba82-2c3db8eb00ef');\n",
              "          const dataTable =\n",
              "            await google.colab.kernel.invokeFunction('convertToInteractive',\n",
              "                                                     [key], {});\n",
              "          if (!dataTable) return;\n",
              "\n",
              "          const docLinkHtml = 'Like what you see? Visit the ' +\n",
              "            '<a target=\"_blank\" href=https://colab.research.google.com/notebooks/data_table.ipynb>data table notebook</a>'\n",
              "            + ' to learn more about interactive tables.';\n",
              "          element.innerHTML = '';\n",
              "          dataTable['output_type'] = 'display_data';\n",
              "          await google.colab.output.renderOutput(dataTable, element);\n",
              "          const docLink = document.createElement('div');\n",
              "          docLink.innerHTML = docLinkHtml;\n",
              "          element.appendChild(docLink);\n",
              "        }\n",
              "      </script>\n",
              "    </div>\n",
              "  </div>\n",
              "  "
            ],
            "text/plain": [
              "  Warehouse id Region SKU id  2018-04-01 00:00:00  2018-05-01 00:00:00  \\\n",
              "0         Wh-1  NORTH  SKU-1                   27                   13   \n",
              "1         Wh-1  NORTH  SKU-2                   88                   28   \n",
              "2         Wh-1  NORTH  SKU-3                    6                    6   \n",
              "3         Wh-1  NORTH  SKU-4                  162                  184   \n",
              "4         Wh-1  NORTH  SKU-5                  171                  402   \n",
              "\n",
              "   2018-06-01 00:00:00  2018-07-01 00:00:00  2018-08-01 00:00:00  \\\n",
              "0                   30                   14                   22   \n",
              "1                  127                  130                   58   \n",
              "2                    6                    6                    6   \n",
              "3                  110                  172                   90   \n",
              "4                  627                  615                  300   \n",
              "\n",
              "   2018-09-01 00:00:00  2018-10-01 00:00:00  ...  2020-08-01 00:00:00  \\\n",
              "0                    8                    8  ...                   12   \n",
              "1                   10                    7  ...                   16   \n",
              "2                    6                    6  ...                    8   \n",
              "3                   40                   18  ...                   82   \n",
              "4                  417                  141  ...                  468   \n",
              "\n",
              "   2020-09-01 00:00:00  2020-10-01 00:00:00  2020-11-01 00:00:00  \\\n",
              "0                    8                    8                    8   \n",
              "1                    7                    7                    7   \n",
              "2                    6                    6                    6   \n",
              "3                   78                   38                   18   \n",
              "4                  216                   75                    6   \n",
              "\n",
              "   2020-12-01 00:00:00  2021-01-01 00:00:00  2021-02-01 00:00:00  \\\n",
              "0                    8                    8                   14   \n",
              "1                    7                    7                   13   \n",
              "2                    6                    6                    6   \n",
              "3                   22                   28                   36   \n",
              "4                   30                   66                  141   \n",
              "\n",
              "   2021-03-01 00:00:00  2021-04-01 00:00:00  2021-05-01 00:00:00  \n",
              "0                   16                    8                   12  \n",
              "1                   43                   13                   43  \n",
              "2                    8                   26                    6  \n",
              "3                  352                   58                   18  \n",
              "4                  699                  183                   24  \n",
              "\n",
              "[5 rows x 41 columns]"
            ]
          },
          "metadata": {},
          "execution_count": 14
        }
      ]
    },
    {
      "cell_type": "code",
      "source": [
        "df.info()"
      ],
      "metadata": {
        "id": "M6cdMGM7Fikm",
        "colab": {
          "base_uri": "https://localhost:8080/"
        },
        "outputId": "786e280c-6078-4a82-a2e3-e69f7f174bba"
      },
      "execution_count": null,
      "outputs": [
        {
          "output_type": "stream",
          "name": "stdout",
          "text": [
            "<class 'pandas.core.frame.DataFrame'>\n",
            "RangeIndex: 1039 entries, 0 to 1038\n",
            "Data columns (total 41 columns):\n",
            " #   Column               Non-Null Count  Dtype \n",
            "---  ------               --------------  ----- \n",
            " 0   Warehouse id         1039 non-null   object\n",
            " 1   Region               1039 non-null   object\n",
            " 2   SKU id               1039 non-null   object\n",
            " 3   2018-04-01 00:00:00  1039 non-null   int64 \n",
            " 4   2018-05-01 00:00:00  1039 non-null   int64 \n",
            " 5   2018-06-01 00:00:00  1039 non-null   int64 \n",
            " 6   2018-07-01 00:00:00  1039 non-null   int64 \n",
            " 7   2018-08-01 00:00:00  1039 non-null   int64 \n",
            " 8   2018-09-01 00:00:00  1039 non-null   int64 \n",
            " 9   2018-10-01 00:00:00  1039 non-null   int64 \n",
            " 10  2018-11-01 00:00:00  1039 non-null   int64 \n",
            " 11  2018-12-01 00:00:00  1039 non-null   int64 \n",
            " 12  2019-01-01 00:00:00  1039 non-null   int64 \n",
            " 13  2019-02-01 00:00:00  1039 non-null   int64 \n",
            " 14  2019-03-01 00:00:00  1039 non-null   int64 \n",
            " 15  2019-04-01 00:00:00  1039 non-null   int64 \n",
            " 16  2019-05-01 00:00:00  1039 non-null   int64 \n",
            " 17  2019-06-01 00:00:00  1039 non-null   int64 \n",
            " 18  2019-07-01 00:00:00  1039 non-null   int64 \n",
            " 19  2019-08-01 00:00:00  1039 non-null   int64 \n",
            " 20  2019-09-01 00:00:00  1039 non-null   int64 \n",
            " 21  2019-10-01 00:00:00  1039 non-null   int64 \n",
            " 22  2019-11-01 00:00:00  1039 non-null   int64 \n",
            " 23  2019-12-01 00:00:00  1039 non-null   int64 \n",
            " 24  2020-01-01 00:00:00  1039 non-null   int64 \n",
            " 25  2020-02-01 00:00:00  1039 non-null   int64 \n",
            " 26  2020-03-01 00:00:00  1039 non-null   int64 \n",
            " 27  2020-04-01 00:00:00  1039 non-null   int64 \n",
            " 28  2020-05-01 00:00:00  1039 non-null   int64 \n",
            " 29  2020-06-01 00:00:00  1039 non-null   int64 \n",
            " 30  2020-07-01 00:00:00  1039 non-null   int64 \n",
            " 31  2020-08-01 00:00:00  1039 non-null   int64 \n",
            " 32  2020-09-01 00:00:00  1039 non-null   int64 \n",
            " 33  2020-10-01 00:00:00  1039 non-null   int64 \n",
            " 34  2020-11-01 00:00:00  1039 non-null   int64 \n",
            " 35  2020-12-01 00:00:00  1039 non-null   int64 \n",
            " 36  2021-01-01 00:00:00  1039 non-null   int64 \n",
            " 37  2021-02-01 00:00:00  1039 non-null   int64 \n",
            " 38  2021-03-01 00:00:00  1039 non-null   int64 \n",
            " 39  2021-04-01 00:00:00  1039 non-null   int64 \n",
            " 40  2021-05-01 00:00:00  1039 non-null   int64 \n",
            "dtypes: int64(38), object(3)\n",
            "memory usage: 332.9+ KB\n"
          ]
        }
      ]
    },
    {
      "cell_type": "code",
      "source": [
        "df.shape[0]"
      ],
      "metadata": {
        "colab": {
          "base_uri": "https://localhost:8080/"
        },
        "id": "zDgGgxbcvb44",
        "outputId": "a828bb5a-2302-4c59-8b09-21c3b0734ce1"
      },
      "execution_count": null,
      "outputs": [
        {
          "output_type": "execute_result",
          "data": {
            "text/plain": [
              "1039"
            ]
          },
          "metadata": {},
          "execution_count": 16
        }
      ]
    },
    {
      "cell_type": "code",
      "source": [
        "from numpy import array\n",
        "from keras.models import Sequential\n",
        "from keras.layers import LSTM\n",
        "from keras.layers import Dense\n",
        "from sklearn.model_selection import train_test_split\n",
        "from sklearn.metrics import mean_absolute_percentage_error\n",
        " \n",
        "# split a univariate sequence into samples\n",
        "def split_sequence(sequence, n_steps):\n",
        "\tX, y = list(), list()\n",
        "\tfor i in range(len(sequence)):\n",
        "\t\t# find the end of this pattern\n",
        "\t\tend_ix = i + n_steps\n",
        "\t\t# check if we are beyond the sequence\n",
        "\t\tif end_ix > len(sequence)-1:\n",
        "\t\t\tbreak\n",
        "\t\t# gather input and output parts of the pattern\n",
        "\t\tseq_x, seq_y = sequence[i:end_ix], sequence[end_ix]\n",
        "\t\tX.append(seq_x)\n",
        "\t\ty.append(seq_y)\n",
        "\treturn array(X), array(y)"
      ],
      "metadata": {
        "id": "mLBxxTQwvwSW"
      },
      "execution_count": null,
      "outputs": []
    },
    {
      "cell_type": "code",
      "source": [
        "test_predictions = list()\n",
        "Y_test = list()"
      ],
      "metadata": {
        "id": "zBZwU5PeqyAt"
      },
      "execution_count": null,
      "outputs": []
    },
    {
      "cell_type": "code",
      "source": [
        "dealers = df.shape[0]"
      ],
      "metadata": {
        "id": "NswvQRqrvc6b"
      },
      "execution_count": null,
      "outputs": []
    },
    {
      "cell_type": "code",
      "source": [
        "for i in range(dealers):\n",
        "  print(\"Training {} dealer\".format(i))\n",
        "  data = (df.iloc[i].drop(index = {'Warehouse id','Region','SKU id'})).to_frame(name = 'Sales')\n",
        "  data['Sales'] = data['Sales'].astype(str).astype(int)\n",
        "  data.index.name = 'Date'\n",
        "  data.index = pd.DatetimeIndex(data.index).to_period('M')\n",
        "  raw_seq = data.to_numpy()\n",
        "  n_steps = 6\n",
        "  X, y = split_sequence(raw_seq, n_steps)\n",
        "  n_features = 1\n",
        "  X = X.reshape((X.shape[0], X.shape[1], n_features))\n",
        "  X_train, X_test, y_train, y_test = train_test_split(X,y, train_size=0.8)\n",
        "  # define model\n",
        "  model = Sequential()\n",
        "  model.add(LSTM(50, activation='relu', input_shape=(n_steps, n_features)))\n",
        "  model.add(Dense(1))\n",
        "  model.compile(optimizer='adam', loss='mape')\n",
        "  # fit model\n",
        "  model.fit(X_train,y_train, epochs=100, verbose=0)\n",
        "  test_predictions.append(model.predict(X_test).astype(int))\n",
        "  Y_test.append(y_test)"
      ],
      "metadata": {
        "id": "wCcDqxXuFk2s",
        "colab": {
          "base_uri": "https://localhost:8080/",
          "height": 467
        },
        "outputId": "7e67ecc5-9b8a-4f6b-dd8f-fa3022195883"
      },
      "execution_count": null,
      "outputs": [
        {
          "output_type": "stream",
          "name": "stdout",
          "text": [
            "Training 0 dealer\n",
            "Training 1 dealer\n",
            "Training 2 dealer\n",
            "Training 3 dealer\n"
          ]
        },
        {
          "output_type": "error",
          "ename": "KeyboardInterrupt",
          "evalue": "ignored",
          "traceback": [
            "\u001b[0;31m---------------------------------------------------------------------------\u001b[0m",
            "\u001b[0;31mKeyboardInterrupt\u001b[0m                         Traceback (most recent call last)",
            "\u001b[0;32m<ipython-input-20-f02a48859c6a>\u001b[0m in \u001b[0;36m<module>\u001b[0;34m()\u001b[0m\n\u001b[1;32m     17\u001b[0m   \u001b[0mmodel\u001b[0m\u001b[0;34m.\u001b[0m\u001b[0mcompile\u001b[0m\u001b[0;34m(\u001b[0m\u001b[0moptimizer\u001b[0m\u001b[0;34m=\u001b[0m\u001b[0;34m'adam'\u001b[0m\u001b[0;34m,\u001b[0m \u001b[0mloss\u001b[0m\u001b[0;34m=\u001b[0m\u001b[0;34m'mape'\u001b[0m\u001b[0;34m)\u001b[0m\u001b[0;34m\u001b[0m\u001b[0;34m\u001b[0m\u001b[0m\n\u001b[1;32m     18\u001b[0m   \u001b[0;31m# fit model\u001b[0m\u001b[0;34m\u001b[0m\u001b[0;34m\u001b[0m\u001b[0;34m\u001b[0m\u001b[0m\n\u001b[0;32m---> 19\u001b[0;31m   \u001b[0mmodel\u001b[0m\u001b[0;34m.\u001b[0m\u001b[0mfit\u001b[0m\u001b[0;34m(\u001b[0m\u001b[0mX_train\u001b[0m\u001b[0;34m,\u001b[0m\u001b[0my_train\u001b[0m\u001b[0;34m,\u001b[0m \u001b[0mepochs\u001b[0m\u001b[0;34m=\u001b[0m\u001b[0;36m100\u001b[0m\u001b[0;34m,\u001b[0m \u001b[0mverbose\u001b[0m\u001b[0;34m=\u001b[0m\u001b[0;36m0\u001b[0m\u001b[0;34m)\u001b[0m\u001b[0;34m\u001b[0m\u001b[0;34m\u001b[0m\u001b[0m\n\u001b[0m\u001b[1;32m     20\u001b[0m   \u001b[0mtest_predictions\u001b[0m\u001b[0;34m.\u001b[0m\u001b[0mappend\u001b[0m\u001b[0;34m(\u001b[0m\u001b[0mmodel\u001b[0m\u001b[0;34m.\u001b[0m\u001b[0mpredict\u001b[0m\u001b[0;34m(\u001b[0m\u001b[0mX_test\u001b[0m\u001b[0;34m)\u001b[0m\u001b[0;34m.\u001b[0m\u001b[0mastype\u001b[0m\u001b[0;34m(\u001b[0m\u001b[0mint\u001b[0m\u001b[0;34m)\u001b[0m\u001b[0;34m)\u001b[0m\u001b[0;34m\u001b[0m\u001b[0;34m\u001b[0m\u001b[0m\n\u001b[1;32m     21\u001b[0m   \u001b[0mY_test\u001b[0m\u001b[0;34m.\u001b[0m\u001b[0mappend\u001b[0m\u001b[0;34m(\u001b[0m\u001b[0my_test\u001b[0m\u001b[0;34m)\u001b[0m\u001b[0;34m\u001b[0m\u001b[0;34m\u001b[0m\u001b[0m\n",
            "\u001b[0;32m/usr/local/lib/python3.7/dist-packages/keras/utils/traceback_utils.py\u001b[0m in \u001b[0;36merror_handler\u001b[0;34m(*args, **kwargs)\u001b[0m\n\u001b[1;32m     62\u001b[0m     \u001b[0mfiltered_tb\u001b[0m \u001b[0;34m=\u001b[0m \u001b[0;32mNone\u001b[0m\u001b[0;34m\u001b[0m\u001b[0;34m\u001b[0m\u001b[0m\n\u001b[1;32m     63\u001b[0m     \u001b[0;32mtry\u001b[0m\u001b[0;34m:\u001b[0m\u001b[0;34m\u001b[0m\u001b[0;34m\u001b[0m\u001b[0m\n\u001b[0;32m---> 64\u001b[0;31m       \u001b[0;32mreturn\u001b[0m \u001b[0mfn\u001b[0m\u001b[0;34m(\u001b[0m\u001b[0;34m*\u001b[0m\u001b[0margs\u001b[0m\u001b[0;34m,\u001b[0m \u001b[0;34m**\u001b[0m\u001b[0mkwargs\u001b[0m\u001b[0;34m)\u001b[0m\u001b[0;34m\u001b[0m\u001b[0;34m\u001b[0m\u001b[0m\n\u001b[0m\u001b[1;32m     65\u001b[0m     \u001b[0;32mexcept\u001b[0m \u001b[0mException\u001b[0m \u001b[0;32mas\u001b[0m \u001b[0me\u001b[0m\u001b[0;34m:\u001b[0m  \u001b[0;31m# pylint: disable=broad-except\u001b[0m\u001b[0;34m\u001b[0m\u001b[0;34m\u001b[0m\u001b[0m\n\u001b[1;32m     66\u001b[0m       \u001b[0mfiltered_tb\u001b[0m \u001b[0;34m=\u001b[0m \u001b[0m_process_traceback_frames\u001b[0m\u001b[0;34m(\u001b[0m\u001b[0me\u001b[0m\u001b[0;34m.\u001b[0m\u001b[0m__traceback__\u001b[0m\u001b[0;34m)\u001b[0m\u001b[0;34m\u001b[0m\u001b[0;34m\u001b[0m\u001b[0m\n",
            "\u001b[0;32m/usr/local/lib/python3.7/dist-packages/keras/engine/training.py\u001b[0m in \u001b[0;36mfit\u001b[0;34m(self, x, y, batch_size, epochs, verbose, callbacks, validation_split, validation_data, shuffle, class_weight, sample_weight, initial_epoch, steps_per_epoch, validation_steps, validation_batch_size, validation_freq, max_queue_size, workers, use_multiprocessing)\u001b[0m\n\u001b[1;32m   1371\u001b[0m       \u001b[0mlogs\u001b[0m \u001b[0;34m=\u001b[0m \u001b[0;32mNone\u001b[0m\u001b[0;34m\u001b[0m\u001b[0;34m\u001b[0m\u001b[0m\n\u001b[1;32m   1372\u001b[0m       \u001b[0;32mfor\u001b[0m \u001b[0mepoch\u001b[0m\u001b[0;34m,\u001b[0m \u001b[0miterator\u001b[0m \u001b[0;32min\u001b[0m \u001b[0mdata_handler\u001b[0m\u001b[0;34m.\u001b[0m\u001b[0menumerate_epochs\u001b[0m\u001b[0;34m(\u001b[0m\u001b[0;34m)\u001b[0m\u001b[0;34m:\u001b[0m\u001b[0;34m\u001b[0m\u001b[0;34m\u001b[0m\u001b[0m\n\u001b[0;32m-> 1373\u001b[0;31m         \u001b[0mself\u001b[0m\u001b[0;34m.\u001b[0m\u001b[0mreset_metrics\u001b[0m\u001b[0;34m(\u001b[0m\u001b[0;34m)\u001b[0m\u001b[0;34m\u001b[0m\u001b[0;34m\u001b[0m\u001b[0m\n\u001b[0m\u001b[1;32m   1374\u001b[0m         \u001b[0mcallbacks\u001b[0m\u001b[0;34m.\u001b[0m\u001b[0mon_epoch_begin\u001b[0m\u001b[0;34m(\u001b[0m\u001b[0mepoch\u001b[0m\u001b[0;34m)\u001b[0m\u001b[0;34m\u001b[0m\u001b[0;34m\u001b[0m\u001b[0m\n\u001b[1;32m   1375\u001b[0m         \u001b[0;32mwith\u001b[0m \u001b[0mdata_handler\u001b[0m\u001b[0;34m.\u001b[0m\u001b[0mcatch_stop_iteration\u001b[0m\u001b[0;34m(\u001b[0m\u001b[0;34m)\u001b[0m\u001b[0;34m:\u001b[0m\u001b[0;34m\u001b[0m\u001b[0;34m\u001b[0m\u001b[0m\n",
            "\u001b[0;32m/usr/local/lib/python3.7/dist-packages/keras/engine/training.py\u001b[0m in \u001b[0;36mreset_metrics\u001b[0;34m(self)\u001b[0m\n\u001b[1;32m   2031\u001b[0m \u001b[0;34m\u001b[0m\u001b[0m\n\u001b[1;32m   2032\u001b[0m     \"\"\"\n\u001b[0;32m-> 2033\u001b[0;31m     \u001b[0;32mfor\u001b[0m \u001b[0mm\u001b[0m \u001b[0;32min\u001b[0m \u001b[0mself\u001b[0m\u001b[0;34m.\u001b[0m\u001b[0mmetrics\u001b[0m\u001b[0;34m:\u001b[0m\u001b[0;34m\u001b[0m\u001b[0;34m\u001b[0m\u001b[0m\n\u001b[0m\u001b[1;32m   2034\u001b[0m       \u001b[0mm\u001b[0m\u001b[0;34m.\u001b[0m\u001b[0mreset_state\u001b[0m\u001b[0;34m(\u001b[0m\u001b[0;34m)\u001b[0m\u001b[0;34m\u001b[0m\u001b[0;34m\u001b[0m\u001b[0m\n\u001b[1;32m   2035\u001b[0m \u001b[0;34m\u001b[0m\u001b[0m\n",
            "\u001b[0;32m/usr/local/lib/python3.7/dist-packages/keras/engine/training.py\u001b[0m in \u001b[0;36mmetrics\u001b[0;34m(self)\u001b[0m\n\u001b[1;32m    714\u001b[0m \u001b[0;34m\u001b[0m\u001b[0m\n\u001b[1;32m    715\u001b[0m     \u001b[0;32mfor\u001b[0m \u001b[0ml\u001b[0m \u001b[0;32min\u001b[0m \u001b[0mself\u001b[0m\u001b[0;34m.\u001b[0m\u001b[0m_flatten_layers\u001b[0m\u001b[0;34m(\u001b[0m\u001b[0;34m)\u001b[0m\u001b[0;34m:\u001b[0m\u001b[0;34m\u001b[0m\u001b[0;34m\u001b[0m\u001b[0m\n\u001b[0;32m--> 716\u001b[0;31m       \u001b[0mmetrics\u001b[0m\u001b[0;34m.\u001b[0m\u001b[0mextend\u001b[0m\u001b[0;34m(\u001b[0m\u001b[0ml\u001b[0m\u001b[0;34m.\u001b[0m\u001b[0m_metrics\u001b[0m\u001b[0;34m)\u001b[0m  \u001b[0;31m# pylint: disable=protected-access\u001b[0m\u001b[0;34m\u001b[0m\u001b[0;34m\u001b[0m\u001b[0m\n\u001b[0m\u001b[1;32m    717\u001b[0m     \u001b[0;32mreturn\u001b[0m \u001b[0mmetrics\u001b[0m\u001b[0;34m\u001b[0m\u001b[0;34m\u001b[0m\u001b[0m\n\u001b[1;32m    718\u001b[0m \u001b[0;34m\u001b[0m\u001b[0m\n",
            "\u001b[0;31mKeyboardInterrupt\u001b[0m: "
          ]
        }
      ]
    },
    {
      "cell_type": "code",
      "source": [
        "test_predictions"
      ],
      "metadata": {
        "id": "kAz61LCzrjBZ"
      },
      "execution_count": null,
      "outputs": []
    },
    {
      "cell_type": "code",
      "source": [
        "len(test_predictions[0])"
      ],
      "metadata": {
        "id": "SnQ2uLE4QXP9"
      },
      "execution_count": null,
      "outputs": []
    },
    {
      "cell_type": "code",
      "source": [
        "predictions = list()\n",
        "for i in range(1039):\n",
        "  x = list()\n",
        "  for j in range(len(test_predictions[i])):\n",
        "    if(test_predictions[i][j][0] < 0):\n",
        "      test_predictions[i][j][0] = test_predictions[i][j-1][0]\n",
        "    x.append(test_predictions[i][j][0])\n",
        "  predictions.append(x)\n"
      ],
      "metadata": {
        "id": "Se_kpRQKQ2R0"
      },
      "execution_count": null,
      "outputs": []
    },
    {
      "cell_type": "code",
      "source": [
        "actual_values = list()\n",
        "for i in range(1039):\n",
        "  x = list()\n",
        "  for j in range(len(Y_test[i])):\n",
        "    x.append(Y_test[i][j][0])\n",
        "  actual_values.append(x)\n"
      ],
      "metadata": {
        "id": "mCOSk5gGRb0I"
      },
      "execution_count": null,
      "outputs": []
    },
    {
      "cell_type": "code",
      "source": [
        "predictions_df = pd.DataFrame(predictions, columns = ['Prediction_1','Prediction_2','Prediction_3','Prediction_4','Prediction_5','Prediction_6','Prediction_7'])\n",
        "test_df = pd.DataFrame(actual_values,columns = ['Test_1','Test_2','Test_3','Test_4','Test_5','Test_6','Test_7'])\n",
        "predictions_df.to_csv(\"Predictions.csv\",index = False)\n",
        "test_df.to_csv(\"YTest.csv\",index = False)"
      ],
      "metadata": {
        "id": "5SP09eZVQJr1"
      },
      "execution_count": null,
      "outputs": []
    },
    {
      "cell_type": "code",
      "source": [
        "from sklearn.metrics import mean_absolute_error"
      ],
      "metadata": {
        "id": "MBOjUDTR4ObN"
      },
      "execution_count": null,
      "outputs": []
    },
    {
      "cell_type": "code",
      "source": [
        "predictions_df = pd.read_csv('/content/Predictions.csv')\n",
        "test_df = pd.read_csv('/content/YTest.csv')\n",
        "predictions = predictions_df.to_numpy()\n",
        "actual_values = test_df.to_numpy()"
      ],
      "metadata": {
        "id": "xk_5uWGjw5Fm"
      },
      "execution_count": null,
      "outputs": []
    },
    {
      "cell_type": "code",
      "source": [
        "def mean_absolute_percentage_error(y_true, y_pred):\n",
        "    error = 0 \n",
        "    for i in range(len(y_true)):\n",
        "      if((y_true[i] == 0) and (y_pred[i] == 0)):\n",
        "        error = error\n",
        "      elif(y_true[i] == 0):\n",
        "        error += 1\n",
        "      else:\n",
        "        error += np.abs((y_true[i]-y_pred[i])/y_true[i])\n",
        "    error /= len(y_true)\n",
        "    return error"
      ],
      "metadata": {
        "id": "D11Qxwbd4b3L"
      },
      "execution_count": null,
      "outputs": []
    },
    {
      "cell_type": "code",
      "source": [
        "mape = 0\n",
        "for i in range(dealers):\n",
        "  mape += mean_absolute_percentage_error(actual_values[i],predictions[i])\n",
        "mape /= dealers\n",
        "mape"
      ],
      "metadata": {
        "colab": {
          "base_uri": "https://localhost:8080/"
        },
        "id": "njxqFPGwut7l",
        "outputId": "3114ebeb-a90a-4cd5-a9c3-2bb0b3895aeb"
      },
      "execution_count": null,
      "outputs": [
        {
          "output_type": "execute_result",
          "data": {
            "text/plain": [
              "1.3092248121024639"
            ]
          },
          "metadata": {},
          "execution_count": 24
        }
      ]
    },
    {
      "cell_type": "code",
      "source": [
        "test_size = len(actual_values)\n",
        "def Extract(lst,k):\n",
        "    return [item[k-1] for item in lst]"
      ],
      "metadata": {
        "id": "BGtg1VXQZkDk"
      },
      "execution_count": null,
      "outputs": []
    },
    {
      "cell_type": "code",
      "source": [
        "plt.figure(figsize=(16,9))\n",
        "plt.plot(Extract(predictions,1)[:50],color='blue')\n",
        "plt.plot(Extract(actual_values,1)[:50],color='red')\n",
        "plt.legend(['prediction','test'])\n",
        "plt.xlabel('SKU IDs')\n",
        "plt.ylabel('Sales')"
      ],
      "metadata": {
        "id": "EmLOfJfhl3o-",
        "colab": {
          "base_uri": "https://localhost:8080/",
          "height": 569
        },
        "outputId": "5580a849-0826-47c7-fabe-c889fa210b6b"
      },
      "execution_count": null,
      "outputs": [
        {
          "output_type": "execute_result",
          "data": {
            "text/plain": [
              "Text(0, 0.5, 'Sales')"
            ]
          },
          "metadata": {},
          "execution_count": 26
        },
        {
          "output_type": "display_data",
          "data": {
            "image/png": "[encoded data removed]",
            "text/plain": [
              "<Figure size 1152x648 with 1 Axes>"
            ]
          },
          "metadata": {
            "needs_background": "light"
          }
        }
      ]
    },
    {
      "cell_type": "code",
      "source": [
        ""
      ],
      "metadata": {
        "id": "WP1ICVaSBcOl"
      },
      "execution_count": null,
      "outputs": []
    }
  ]
}